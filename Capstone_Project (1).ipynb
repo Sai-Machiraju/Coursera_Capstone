{
 "cells": [
  {
   "cell_type": "markdown",
   "metadata": {},
   "source": [
    "# Capstone Project - The Battle of the Neighborhoods"
   ]
  },
  {
   "cell_type": "markdown",
   "metadata": {},
   "source": [
    "## Applied Data Science Capstone by IBM/Coursera"
   ]
  },
  {
   "cell_type": "markdown",
   "metadata": {},
   "source": [
    "## Table of contents"
   ]
  },
  {
   "cell_type": "markdown",
   "metadata": {},
   "source": [
    "- Introduction\n",
    "- Data\n",
    "- Methodology\n",
    "- Analysis\n",
    "- Results and Discussion\n",
    "- Conclusion"
   ]
  },
  {
   "cell_type": "markdown",
   "metadata": {},
   "source": [
    "## 1. Introduction"
   ]
  },
  {
   "cell_type": "markdown",
   "metadata": {},
   "source": [
    "   Houston Texas is the largest city in the state comprising of 88 super neighborhoods with an estimated population of 2,325,502. Houston is commonly known for its food, job availability, night life, and NASA. With this popularity Houston is classified as one of the fastest growing cities in the nation. With this ever-increasing population comes a growing demand to address the needs of the residents that make Houston home.  One of the largest problems facing the city is that of food deserts. Food deserts according to the CDC are “areas that lack access to affordable fruits, vegetables, whole grains, low-fat milk, and other foods that make up the full range of a healthy diet.” Individuals living in areas classified as food deserts are shown to have an increased risk of developing diabetes, cardiovascular disease, and being obese. While food deserts can be present in areas typically associated as having low income, they can be present in any area that causes an individual to not have easy access to an available grocery store, and overall, about 23.5 million Americans and a reported 250,000  individuals living in Houston, TX lack easy access to grocery stores according to Rice University.  \n",
    "\n",
    "   While living in food deserts are shown to negatively impact ones health, these areas would present lower competition for new grocery stores and allow for a perfect opportunity for business owners to open new grocery stores that not only help alleviate public health concerns, but to also serve the demand for fresh food for individuals that live in impacted areas leading to a greater possibility for a successful store.  \n",
    "   \n",
    "   \n",
    " "
   ]
  },
  {
   "cell_type": "markdown",
   "metadata": {},
   "source": [
    "### 1.1 Objective"
   ]
  },
  {
   "cell_type": "markdown",
   "metadata": {},
   "source": [
    "The objective of this project is to find what neighborhoods could possibly be labeled as food deserts and to select the best locations to open a new grocery store that not only alleviates the problem of food deserts but also has the best probability of success due to lack of competition in the city of Houston, Tx. "
   ]
  },
  {
   "cell_type": "markdown",
   "metadata": {},
   "source": [
    "### 1.2 Interest"
   ]
  },
  {
   "cell_type": "markdown",
   "metadata": {},
   "source": [
    "This project is useful to a variety of groups, such as public health officials in finding possible food deserts within the Houston community, people looking to move into a neighborhood that has easy access to a grocery store, and finally business owners or developers looking to open new grocery store in an area with lower competition in Houston, Tx. This project is relevant as food deserts are not just a public health issue, but are an untapped resource for business and developers who are looking at finding an area to create a store with the highest probability of success and in areas with low competition.  \n",
    " "
   ]
  },
  {
   "cell_type": "markdown",
   "metadata": {},
   "source": [
    "## 2. Data"
   ]
  },
  {
   "cell_type": "markdown",
   "metadata": {},
   "source": [
    "### 2.1 Source of data"
   ]
  },
  {
   "cell_type": "markdown",
   "metadata": {},
   "source": [
    "- The data for the project comes from the  page (http://www.houstontx.gov/planning/Demographics/demograph_docs/income_avgs.htm) which contains the list of neighborhoods within Houston as well as their location relative to downtown, Texas totaling to 88 super neighborhoods.\n",
    "- Geocoder \n",
    "- Foursquare API "
   ]
  },
  {
   "cell_type": "markdown",
   "metadata": {},
   "source": [
    "### 2.2 Data Preparation"
   ]
  },
  {
   "cell_type": "markdown",
   "metadata": {},
   "source": [
    "Importing the libraries"
   ]
  },
  {
   "cell_type": "code",
   "execution_count": 1,
   "metadata": {},
   "outputs": [
    {
     "name": "stdout",
     "output_type": "stream",
     "text": [
      "Libraries imported.\n"
     ]
    }
   ],
   "source": [
    "import numpy as np # library to handle data in a vectorized manner\n",
    "import pandas as pd # library for data analsysis\n",
    "pd.set_option('display.max_columns', None)\n",
    "pd.set_option('display.max_rows', None)\n",
    "\n",
    "import json # library to handle JSON files\n",
    "\n",
    "#!conda install -c conda-forge geopy --yes # uncomment this line if you haven't completed the Foursquare API lab\n",
    "from geopy.geocoders import Nominatim # convert an address into latitude and longitude values\n",
    "\n",
    "import requests # library to handle requests\n",
    "from pandas.io.json import json_normalize # tranform JSON file into a pandas dataframe\n",
    "\n",
    "# Matplotlib and associated plotting modules\n",
    "import matplotlib.cm as cm\n",
    "import matplotlib.colors as colors\n",
    "\n",
    "# import k-means from clustering stage\n",
    "from sklearn.cluster import KMeans\n",
    "\n",
    "#!conda install -c conda-forge folium=0.5.0 --yes # uncomment this line if you haven't completed the Foursquare API lab\n",
    "import folium # map rendering library\n",
    "\n",
    "print('Libraries imported.')"
   ]
  },
  {
   "cell_type": "markdown",
   "metadata": {},
   "source": [
    "Load the coordinates of the boroughs into a dataframe"
   ]
  },
  {
   "cell_type": "code",
   "execution_count": 13,
   "metadata": {},
   "outputs": [
    {
     "data": {
      "text/html": [
       "<div>\n",
       "<style scoped>\n",
       "    .dataframe tbody tr th:only-of-type {\n",
       "        vertical-align: middle;\n",
       "    }\n",
       "\n",
       "    .dataframe tbody tr th {\n",
       "        vertical-align: top;\n",
       "    }\n",
       "\n",
       "    .dataframe thead th {\n",
       "        text-align: right;\n",
       "    }\n",
       "</style>\n",
       "<table border=\"1\" class=\"dataframe\">\n",
       "  <thead>\n",
       "    <tr style=\"text-align: right;\">\n",
       "      <th></th>\n",
       "      <th>#</th>\n",
       "      <th>Name</th>\n",
       "      <th>Location relative to Downtown Houston</th>\n",
       "      <th>Approximate boundaries</th>\n",
       "    </tr>\n",
       "  </thead>\n",
       "  <tbody>\n",
       "    <tr>\n",
       "      <td>0</td>\n",
       "      <td>1</td>\n",
       "      <td>Willowbrook</td>\n",
       "      <td>Northwest</td>\n",
       "      <td>Along Texas State Highway 249 northwest of Bel...</td>\n",
       "    </tr>\n",
       "    <tr>\n",
       "      <td>1</td>\n",
       "      <td>2</td>\n",
       "      <td>Greater Greenspoint</td>\n",
       "      <td>North</td>\n",
       "      <td>Around the junction of Beltway 8 and Interstat...</td>\n",
       "    </tr>\n",
       "    <tr>\n",
       "      <td>2</td>\n",
       "      <td>3</td>\n",
       "      <td>Carverdale</td>\n",
       "      <td>Northwest</td>\n",
       "      <td>South of the junction of Beltway 8 and U.S. Ro...</td>\n",
       "    </tr>\n",
       "    <tr>\n",
       "      <td>3</td>\n",
       "      <td>4</td>\n",
       "      <td>Fairbanks / Northwest Crossing</td>\n",
       "      <td>Northwest</td>\n",
       "      <td>Along U.S. Route 290 between Interstate 610 an...</td>\n",
       "    </tr>\n",
       "    <tr>\n",
       "      <td>4</td>\n",
       "      <td>5</td>\n",
       "      <td>Greater Inwood</td>\n",
       "      <td>Northwest</td>\n",
       "      <td>North of Fairbanks / Northwest Crossing and ea...</td>\n",
       "    </tr>\n",
       "  </tbody>\n",
       "</table>\n",
       "</div>"
      ],
      "text/plain": [
       "   #                            Name Location relative to Downtown Houston  \\\n",
       "0  1                     Willowbrook                             Northwest   \n",
       "1  2             Greater Greenspoint                                 North   \n",
       "2  3                      Carverdale                             Northwest   \n",
       "3  4  Fairbanks / Northwest Crossing                             Northwest   \n",
       "4  5                  Greater Inwood                             Northwest   \n",
       "\n",
       "                              Approximate boundaries  \n",
       "0  Along Texas State Highway 249 northwest of Bel...  \n",
       "1  Around the junction of Beltway 8 and Interstat...  \n",
       "2  South of the junction of Beltway 8 and U.S. Ro...  \n",
       "3  Along U.S. Route 290 between Interstate 610 an...  \n",
       "4  North of Fairbanks / Northwest Crossing and ea...  "
      ]
     },
     "execution_count": 13,
     "metadata": {},
     "output_type": "execute_result"
    }
   ],
   "source": [
    "df=pd.read_html(\"https://en.wikipedia.org/wiki/List_of_Houston_neighborhoods\",header=0)[0]\n",
    "df.head()"
   ]
  },
  {
   "cell_type": "code",
   "execution_count": 14,
   "metadata": {},
   "outputs": [],
   "source": [
    "df.drop([\"Approximate boundaries\"],axis=1,inplace=True)"
   ]
  },
  {
   "cell_type": "code",
   "execution_count": 18,
   "metadata": {},
   "outputs": [
    {
     "data": {
      "text/html": [
       "<div>\n",
       "<style scoped>\n",
       "    .dataframe tbody tr th:only-of-type {\n",
       "        vertical-align: middle;\n",
       "    }\n",
       "\n",
       "    .dataframe tbody tr th {\n",
       "        vertical-align: top;\n",
       "    }\n",
       "\n",
       "    .dataframe thead th {\n",
       "        text-align: right;\n",
       "    }\n",
       "</style>\n",
       "<table border=\"1\" class=\"dataframe\">\n",
       "  <thead>\n",
       "    <tr style=\"text-align: right;\">\n",
       "      <th></th>\n",
       "      <th>Number</th>\n",
       "      <th>Name</th>\n",
       "      <th>Location relative to Downtown Houston</th>\n",
       "    </tr>\n",
       "  </thead>\n",
       "  <tbody>\n",
       "    <tr>\n",
       "      <td>0</td>\n",
       "      <td>1</td>\n",
       "      <td>Willowbrook</td>\n",
       "      <td>Northwest</td>\n",
       "    </tr>\n",
       "    <tr>\n",
       "      <td>1</td>\n",
       "      <td>2</td>\n",
       "      <td>Greater Greenspoint</td>\n",
       "      <td>North</td>\n",
       "    </tr>\n",
       "    <tr>\n",
       "      <td>2</td>\n",
       "      <td>3</td>\n",
       "      <td>Carverdale</td>\n",
       "      <td>Northwest</td>\n",
       "    </tr>\n",
       "    <tr>\n",
       "      <td>3</td>\n",
       "      <td>4</td>\n",
       "      <td>Fairbanks / Northwest Crossing</td>\n",
       "      <td>Northwest</td>\n",
       "    </tr>\n",
       "    <tr>\n",
       "      <td>4</td>\n",
       "      <td>5</td>\n",
       "      <td>Greater Inwood</td>\n",
       "      <td>Northwest</td>\n",
       "    </tr>\n",
       "  </tbody>\n",
       "</table>\n",
       "</div>"
      ],
      "text/plain": [
       "   Number                            Name  \\\n",
       "0       1                     Willowbrook   \n",
       "1       2             Greater Greenspoint   \n",
       "2       3                      Carverdale   \n",
       "3       4  Fairbanks / Northwest Crossing   \n",
       "4       5                  Greater Inwood   \n",
       "\n",
       "  Location relative to Downtown Houston  \n",
       "0                             Northwest  \n",
       "1                                 North  \n",
       "2                             Northwest  \n",
       "3                             Northwest  \n",
       "4                             Northwest  "
      ]
     },
     "execution_count": 18,
     "metadata": {},
     "output_type": "execute_result"
    }
   ],
   "source": [
    "df.rename(columns={\"#\":\"Number\"},inplace=True)\n",
    "df.head()"
   ]
  },
  {
   "cell_type": "code",
   "execution_count": 20,
   "metadata": {},
   "outputs": [
    {
     "data": {
      "text/plain": [
       "(88, 3)"
      ]
     },
     "execution_count": 20,
     "metadata": {},
     "output_type": "execute_result"
    }
   ],
   "source": [
    "df.shape"
   ]
  },
  {
   "cell_type": "code",
   "execution_count": null,
   "metadata": {},
   "outputs": [],
   "source": []
  }
 ],
 "metadata": {
  "kernelspec": {
   "display_name": "Python 3",
   "language": "python",
   "name": "python3"
  },
  "language_info": {
   "codemirror_mode": {
    "name": "ipython",
    "version": 3
   },
   "file_extension": ".py",
   "mimetype": "text/x-python",
   "name": "python",
   "nbconvert_exporter": "python",
   "pygments_lexer": "ipython3",
   "version": "3.7.4"
  }
 },
 "nbformat": 4,
 "nbformat_minor": 2
}
